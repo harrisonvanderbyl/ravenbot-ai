{
 "cells": [
  {
   "cell_type": "code",
   "execution_count": null,
   "metadata": {},
   "outputs": [],
   "source": [
    "!export TOKEN=\"YOUR DISCORD BOT TOKEN HERE\"\n",
    "!mkdir /root/.huggingface\n",
    "!echo -n \"YOUR HUGGINGFACE TOKEN HERE\" > /root/.huggingface/token\n",
    "!git clone https://github.com/harrisonvanderbyl/ravenbot-ai.git\n",
    "%cd ravenbot-ai/purebot\n",
    "!sh ./purebot.sh"
   ]
  }
 ],
 "metadata": {
  "kernelspec": {
   "display_name": "Python 3.10.4 64-bit",
   "language": "python",
   "name": "python3"
  },
  "language_info": {
   "name": "python",
   "version": "3.10.4"
  },
  "orig_nbformat": 4,
  "vscode": {
   "interpreter": {
    "hash": "916dbcbb3f70747c44a77c7bcd40155683ae19c65e1c03b4aa3499c5328201f1"
   }
  }
 },
 "nbformat": 4,
 "nbformat_minor": 2
}
